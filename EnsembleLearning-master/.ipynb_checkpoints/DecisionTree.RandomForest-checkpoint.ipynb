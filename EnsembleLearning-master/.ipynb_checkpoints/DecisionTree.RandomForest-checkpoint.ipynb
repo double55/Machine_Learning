{
 "cells": [
  {
   "cell_type": "markdown",
   "metadata": {
    "_cell_guid": "ea5028a5-e497-43b9-95d9-d54b9d559a0f",
    "_uuid": "e2e867859acbb5fc5b62f8a8a59439f3d1d7746c"
   },
   "source": [
    "# 使用决策树和随机森林预测员工离职率\n",
    "\n",
    "我们的任务是帮助人事部门理解员工为何离职, 预测一个员工离职的可能性.\n",
    "数据来源: https://www.kaggle.com/ludobenistant/hr-analytics"
   ]
  },
  {
   "cell_type": "code",
   "execution_count": 1,
   "metadata": {
    "_cell_guid": "9b79a352-5901-4b5a-af72-c2872c6c2d3b",
    "_uuid": "4ebdadf89270fbbe8a2efa6aa8053c3605fbc808"
   },
   "outputs": [],
   "source": [
    "import pandas as pd\n",
    "import numpy as np\n",
    "import matplotlib.pyplot as plt\n",
    "import matplotlib as matplot\n",
    "import seaborn as sns\n",
    "%matplotlib inline"
   ]
  },
  {
   "cell_type": "markdown",
   "metadata": {},
   "source": [
    "# 数据读取"
   ]
  },
  {
   "cell_type": "code",
   "execution_count": 2,
   "metadata": {
    "_cell_guid": "af5af896-7e0a-46fb-837a-b6f0ae51fd56",
    "_uuid": "4bbc946c081a0d297fd5801048e9b49a0d036168"
   },
   "outputs": [],
   "source": [
    "# 读入数据到Pandas Dataframe \"df\"\n",
    "df = pd.read_csv('HR_comma_sep.csv', index_col=None)"
   ]
  },
  {
   "cell_type": "markdown",
   "metadata": {
    "_cell_guid": "88cf1176-a3c4-49a9-915c-3bea5c8a3a4e",
    "_uuid": "b5b800ca16faed7e7317413bd6fe0c4c44d082fb"
   },
   "source": [
    "# 数据预处理"
   ]
  },
  {
   "cell_type": "code",
   "execution_count": 3,
   "metadata": {
    "_cell_guid": "def1f3a5-2295-4cfa-8000-5e501cc15864",
    "_uuid": "b31aed21b4ffe7dd68ecf96412d26a0f58425ce6"
   },
   "outputs": [
    {
     "data": {
      "text/plain": [
       "satisfaction_level       False\n",
       "last_evaluation          False\n",
       "number_project           False\n",
       "average_montly_hours     False\n",
       "time_spend_company       False\n",
       "Work_accident            False\n",
       "left                     False\n",
       "promotion_last_5years    False\n",
       "sales                    False\n",
       "salary                   False\n",
       "dtype: bool"
      ]
     },
     "execution_count": 3,
     "metadata": {},
     "output_type": "execute_result"
    }
   ],
   "source": [
    "# 检测是否有缺失数据\n",
    "df.isnull().any()"
   ]
  },
  {
   "cell_type": "code",
   "execution_count": 4,
   "metadata": {
    "_cell_guid": "9b322ef9-e81d-451e-97e9-8d07565c3926",
    "_uuid": "d4e87b49f2d638cb7d2f64b830ed835fd9790412",
    "scrolled": true
   },
   "outputs": [
    {
     "data": {
      "text/html": [
       "<div>\n",
       "<style scoped>\n",
       "    .dataframe tbody tr th:only-of-type {\n",
       "        vertical-align: middle;\n",
       "    }\n",
       "\n",
       "    .dataframe tbody tr th {\n",
       "        vertical-align: top;\n",
       "    }\n",
       "\n",
       "    .dataframe thead th {\n",
       "        text-align: right;\n",
       "    }\n",
       "</style>\n",
       "<table border=\"1\" class=\"dataframe\">\n",
       "  <thead>\n",
       "    <tr style=\"text-align: right;\">\n",
       "      <th></th>\n",
       "      <th>satisfaction_level</th>\n",
       "      <th>last_evaluation</th>\n",
       "      <th>number_project</th>\n",
       "      <th>average_montly_hours</th>\n",
       "      <th>time_spend_company</th>\n",
       "      <th>Work_accident</th>\n",
       "      <th>left</th>\n",
       "      <th>promotion_last_5years</th>\n",
       "      <th>sales</th>\n",
       "      <th>salary</th>\n",
       "    </tr>\n",
       "  </thead>\n",
       "  <tbody>\n",
       "    <tr>\n",
       "      <th>0</th>\n",
       "      <td>0.38</td>\n",
       "      <td>0.53</td>\n",
       "      <td>2</td>\n",
       "      <td>157</td>\n",
       "      <td>3</td>\n",
       "      <td>0</td>\n",
       "      <td>1</td>\n",
       "      <td>0</td>\n",
       "      <td>sales</td>\n",
       "      <td>low</td>\n",
       "    </tr>\n",
       "    <tr>\n",
       "      <th>1</th>\n",
       "      <td>0.80</td>\n",
       "      <td>0.86</td>\n",
       "      <td>5</td>\n",
       "      <td>262</td>\n",
       "      <td>6</td>\n",
       "      <td>0</td>\n",
       "      <td>1</td>\n",
       "      <td>0</td>\n",
       "      <td>sales</td>\n",
       "      <td>medium</td>\n",
       "    </tr>\n",
       "    <tr>\n",
       "      <th>2</th>\n",
       "      <td>0.11</td>\n",
       "      <td>0.88</td>\n",
       "      <td>7</td>\n",
       "      <td>272</td>\n",
       "      <td>4</td>\n",
       "      <td>0</td>\n",
       "      <td>1</td>\n",
       "      <td>0</td>\n",
       "      <td>sales</td>\n",
       "      <td>medium</td>\n",
       "    </tr>\n",
       "    <tr>\n",
       "      <th>3</th>\n",
       "      <td>0.72</td>\n",
       "      <td>0.87</td>\n",
       "      <td>5</td>\n",
       "      <td>223</td>\n",
       "      <td>5</td>\n",
       "      <td>0</td>\n",
       "      <td>1</td>\n",
       "      <td>0</td>\n",
       "      <td>sales</td>\n",
       "      <td>low</td>\n",
       "    </tr>\n",
       "    <tr>\n",
       "      <th>4</th>\n",
       "      <td>0.37</td>\n",
       "      <td>0.52</td>\n",
       "      <td>2</td>\n",
       "      <td>159</td>\n",
       "      <td>3</td>\n",
       "      <td>0</td>\n",
       "      <td>1</td>\n",
       "      <td>0</td>\n",
       "      <td>sales</td>\n",
       "      <td>low</td>\n",
       "    </tr>\n",
       "  </tbody>\n",
       "</table>\n",
       "</div>"
      ],
      "text/plain": [
       "   satisfaction_level  last_evaluation  number_project  average_montly_hours  \\\n",
       "0                0.38             0.53               2                   157   \n",
       "1                0.80             0.86               5                   262   \n",
       "2                0.11             0.88               7                   272   \n",
       "3                0.72             0.87               5                   223   \n",
       "4                0.37             0.52               2                   159   \n",
       "\n",
       "   time_spend_company  Work_accident  left  promotion_last_5years  sales  \\\n",
       "0                   3              0     1                      0  sales   \n",
       "1                   6              0     1                      0  sales   \n",
       "2                   4              0     1                      0  sales   \n",
       "3                   5              0     1                      0  sales   \n",
       "4                   3              0     1                      0  sales   \n",
       "\n",
       "   salary  \n",
       "0     low  \n",
       "1  medium  \n",
       "2  medium  \n",
       "3     low  \n",
       "4     low  "
      ]
     },
     "execution_count": 4,
     "metadata": {},
     "output_type": "execute_result"
    }
   ],
   "source": [
    "# 数据的样例\n",
    "df.head()"
   ]
  },
  {
   "cell_type": "code",
   "execution_count": 5,
   "metadata": {
    "_cell_guid": "d59ec584-237a-492f-aca7-a5302571b3ca",
    "_uuid": "d26af4fb750db2dddd884c2294803f4e9e3a157b"
   },
   "outputs": [],
   "source": [
    "# 重命名\n",
    "df = df.rename(columns={'satisfaction_level': 'satisfaction', \n",
    "                        'last_evaluation': 'evaluation',\n",
    "                        'number_project': 'projectCount',\n",
    "                        'average_montly_hours': 'averageMonthlyHours',\n",
    "                        'time_spend_company': 'yearsAtCompany',\n",
    "                        'Work_accident': 'workAccident',\n",
    "                        'promotion_last_5years': 'promotion',\n",
    "                        'sales' : 'department',\n",
    "                        'left' : 'turnover'\n",
    "                        })"
   ]
  },
  {
   "cell_type": "code",
   "execution_count": 6,
   "metadata": {
    "_cell_guid": "a8a74097-4ab3-4570-bdff-7b911fe3368f",
    "_uuid": "0e8ced3df6e4031c4ae2265bd192a55334065a92",
    "scrolled": false
   },
   "outputs": [
    {
     "data": {
      "text/html": [
       "<div>\n",
       "<style scoped>\n",
       "    .dataframe tbody tr th:only-of-type {\n",
       "        vertical-align: middle;\n",
       "    }\n",
       "\n",
       "    .dataframe tbody tr th {\n",
       "        vertical-align: top;\n",
       "    }\n",
       "\n",
       "    .dataframe thead th {\n",
       "        text-align: right;\n",
       "    }\n",
       "</style>\n",
       "<table border=\"1\" class=\"dataframe\">\n",
       "  <thead>\n",
       "    <tr style=\"text-align: right;\">\n",
       "      <th></th>\n",
       "      <th>turnover</th>\n",
       "      <th>satisfaction</th>\n",
       "      <th>evaluation</th>\n",
       "      <th>projectCount</th>\n",
       "      <th>averageMonthlyHours</th>\n",
       "      <th>yearsAtCompany</th>\n",
       "      <th>workAccident</th>\n",
       "      <th>promotion</th>\n",
       "      <th>department</th>\n",
       "      <th>salary</th>\n",
       "    </tr>\n",
       "  </thead>\n",
       "  <tbody>\n",
       "    <tr>\n",
       "      <th>0</th>\n",
       "      <td>1</td>\n",
       "      <td>0.38</td>\n",
       "      <td>0.53</td>\n",
       "      <td>2</td>\n",
       "      <td>157</td>\n",
       "      <td>3</td>\n",
       "      <td>0</td>\n",
       "      <td>0</td>\n",
       "      <td>sales</td>\n",
       "      <td>low</td>\n",
       "    </tr>\n",
       "    <tr>\n",
       "      <th>1</th>\n",
       "      <td>1</td>\n",
       "      <td>0.80</td>\n",
       "      <td>0.86</td>\n",
       "      <td>5</td>\n",
       "      <td>262</td>\n",
       "      <td>6</td>\n",
       "      <td>0</td>\n",
       "      <td>0</td>\n",
       "      <td>sales</td>\n",
       "      <td>medium</td>\n",
       "    </tr>\n",
       "    <tr>\n",
       "      <th>2</th>\n",
       "      <td>1</td>\n",
       "      <td>0.11</td>\n",
       "      <td>0.88</td>\n",
       "      <td>7</td>\n",
       "      <td>272</td>\n",
       "      <td>4</td>\n",
       "      <td>0</td>\n",
       "      <td>0</td>\n",
       "      <td>sales</td>\n",
       "      <td>medium</td>\n",
       "    </tr>\n",
       "    <tr>\n",
       "      <th>3</th>\n",
       "      <td>1</td>\n",
       "      <td>0.72</td>\n",
       "      <td>0.87</td>\n",
       "      <td>5</td>\n",
       "      <td>223</td>\n",
       "      <td>5</td>\n",
       "      <td>0</td>\n",
       "      <td>0</td>\n",
       "      <td>sales</td>\n",
       "      <td>low</td>\n",
       "    </tr>\n",
       "    <tr>\n",
       "      <th>4</th>\n",
       "      <td>1</td>\n",
       "      <td>0.37</td>\n",
       "      <td>0.52</td>\n",
       "      <td>2</td>\n",
       "      <td>159</td>\n",
       "      <td>3</td>\n",
       "      <td>0</td>\n",
       "      <td>0</td>\n",
       "      <td>sales</td>\n",
       "      <td>low</td>\n",
       "    </tr>\n",
       "  </tbody>\n",
       "</table>\n",
       "</div>"
      ],
      "text/plain": [
       "   turnover  satisfaction  evaluation  projectCount  averageMonthlyHours  \\\n",
       "0         1          0.38        0.53             2                  157   \n",
       "1         1          0.80        0.86             5                  262   \n",
       "2         1          0.11        0.88             7                  272   \n",
       "3         1          0.72        0.87             5                  223   \n",
       "4         1          0.37        0.52             2                  159   \n",
       "\n",
       "   yearsAtCompany  workAccident  promotion department  salary  \n",
       "0               3             0          0      sales     low  \n",
       "1               6             0          0      sales  medium  \n",
       "2               4             0          0      sales  medium  \n",
       "3               5             0          0      sales     low  \n",
       "4               3             0          0      sales     low  "
      ]
     },
     "execution_count": 6,
     "metadata": {},
     "output_type": "execute_result"
    }
   ],
   "source": [
    "# 将预测标签‘是否离职’放在第一列\n",
    "front = df['turnover']\n",
    "df.drop(labels=['turnover'], axis=1, inplace = True)\n",
    "df.insert(0, 'turnover', front)\n",
    "df.head()"
   ]
  },
  {
   "cell_type": "markdown",
   "metadata": {
    "_cell_guid": "11e56653-4ce4-44eb-b562-a5715562c3cc",
    "_uuid": "7af6d7934b3f0212c93d1a07e69f934dd986a954"
   },
   "source": [
    "## 数据统计分析"
   ]
  },
  {
   "cell_type": "code",
   "execution_count": 7,
   "metadata": {
    "_cell_guid": "73419440-c92d-4f6a-a718-216646b900cc",
    "_uuid": "a7eabf82ee6adbd09aca9e878112f8525ea50417"
   },
   "outputs": [
    {
     "data": {
      "text/plain": [
       "(14999, 10)"
      ]
     },
     "execution_count": 7,
     "metadata": {},
     "output_type": "execute_result"
    }
   ],
   "source": [
    "# 共14999个样本，每一个样本中包含10个特征\n",
    "df.shape"
   ]
  },
  {
   "cell_type": "code",
   "execution_count": 8,
   "metadata": {
    "_cell_guid": "25bc8dfe-5d24-4249-bab0-0424a20b1bd5",
    "_uuid": "4be89ba5d2e7f693b0cd228830423a700b6196fa"
   },
   "outputs": [
    {
     "data": {
      "text/plain": [
       "turnover                 int64\n",
       "satisfaction           float64\n",
       "evaluation             float64\n",
       "projectCount             int64\n",
       "averageMonthlyHours      int64\n",
       "yearsAtCompany           int64\n",
       "workAccident             int64\n",
       "promotion                int64\n",
       "department              object\n",
       "salary                  object\n",
       "dtype: object"
      ]
     },
     "execution_count": 8,
     "metadata": {},
     "output_type": "execute_result"
    }
   ],
   "source": [
    "# 特征数据类型. \n",
    "df.dtypes"
   ]
  },
  {
   "cell_type": "code",
   "execution_count": 9,
   "metadata": {
    "_cell_guid": "bbac7b26-fc6d-47ad-8b15-b1f61191a471",
    "_uuid": "e4a3109a02643d0a8388553ee176f7fc112f321a"
   },
   "outputs": [
    {
     "data": {
      "text/plain": [
       "0    0.761917\n",
       "1    0.238083\n",
       "Name: turnover, dtype: float64"
      ]
     },
     "execution_count": 9,
     "metadata": {},
     "output_type": "execute_result"
    }
   ],
   "source": [
    "# 离职率\n",
    "turnover_rate = df.turnover.value_counts() / len(df)\n",
    "turnover_rate"
   ]
  },
  {
   "cell_type": "code",
   "execution_count": 10,
   "metadata": {
    "_cell_guid": "bc3d99b1-7bc5-4ba2-a34f-0a721c51075f",
    "_uuid": "a9ae5674c17ee2b88035aef24d674c56d0b89a03",
    "scrolled": true
   },
   "outputs": [
    {
     "data": {
      "text/html": [
       "<div>\n",
       "<style scoped>\n",
       "    .dataframe tbody tr th:only-of-type {\n",
       "        vertical-align: middle;\n",
       "    }\n",
       "\n",
       "    .dataframe tbody tr th {\n",
       "        vertical-align: top;\n",
       "    }\n",
       "\n",
       "    .dataframe thead th {\n",
       "        text-align: right;\n",
       "    }\n",
       "</style>\n",
       "<table border=\"1\" class=\"dataframe\">\n",
       "  <thead>\n",
       "    <tr style=\"text-align: right;\">\n",
       "      <th></th>\n",
       "      <th>turnover</th>\n",
       "      <th>satisfaction</th>\n",
       "      <th>evaluation</th>\n",
       "      <th>projectCount</th>\n",
       "      <th>averageMonthlyHours</th>\n",
       "      <th>yearsAtCompany</th>\n",
       "      <th>workAccident</th>\n",
       "      <th>promotion</th>\n",
       "    </tr>\n",
       "  </thead>\n",
       "  <tbody>\n",
       "    <tr>\n",
       "      <th>count</th>\n",
       "      <td>14999.000000</td>\n",
       "      <td>14999.000000</td>\n",
       "      <td>14999.000000</td>\n",
       "      <td>14999.000000</td>\n",
       "      <td>14999.000000</td>\n",
       "      <td>14999.000000</td>\n",
       "      <td>14999.000000</td>\n",
       "      <td>14999.000000</td>\n",
       "    </tr>\n",
       "    <tr>\n",
       "      <th>mean</th>\n",
       "      <td>0.238083</td>\n",
       "      <td>0.612834</td>\n",
       "      <td>0.716102</td>\n",
       "      <td>3.803054</td>\n",
       "      <td>201.050337</td>\n",
       "      <td>3.498233</td>\n",
       "      <td>0.144610</td>\n",
       "      <td>0.021268</td>\n",
       "    </tr>\n",
       "    <tr>\n",
       "      <th>std</th>\n",
       "      <td>0.425924</td>\n",
       "      <td>0.248631</td>\n",
       "      <td>0.171169</td>\n",
       "      <td>1.232592</td>\n",
       "      <td>49.943099</td>\n",
       "      <td>1.460136</td>\n",
       "      <td>0.351719</td>\n",
       "      <td>0.144281</td>\n",
       "    </tr>\n",
       "    <tr>\n",
       "      <th>min</th>\n",
       "      <td>0.000000</td>\n",
       "      <td>0.090000</td>\n",
       "      <td>0.360000</td>\n",
       "      <td>2.000000</td>\n",
       "      <td>96.000000</td>\n",
       "      <td>2.000000</td>\n",
       "      <td>0.000000</td>\n",
       "      <td>0.000000</td>\n",
       "    </tr>\n",
       "    <tr>\n",
       "      <th>25%</th>\n",
       "      <td>0.000000</td>\n",
       "      <td>0.440000</td>\n",
       "      <td>0.560000</td>\n",
       "      <td>3.000000</td>\n",
       "      <td>156.000000</td>\n",
       "      <td>3.000000</td>\n",
       "      <td>0.000000</td>\n",
       "      <td>0.000000</td>\n",
       "    </tr>\n",
       "    <tr>\n",
       "      <th>50%</th>\n",
       "      <td>0.000000</td>\n",
       "      <td>0.640000</td>\n",
       "      <td>0.720000</td>\n",
       "      <td>4.000000</td>\n",
       "      <td>200.000000</td>\n",
       "      <td>3.000000</td>\n",
       "      <td>0.000000</td>\n",
       "      <td>0.000000</td>\n",
       "    </tr>\n",
       "    <tr>\n",
       "      <th>75%</th>\n",
       "      <td>0.000000</td>\n",
       "      <td>0.820000</td>\n",
       "      <td>0.870000</td>\n",
       "      <td>5.000000</td>\n",
       "      <td>245.000000</td>\n",
       "      <td>4.000000</td>\n",
       "      <td>0.000000</td>\n",
       "      <td>0.000000</td>\n",
       "    </tr>\n",
       "    <tr>\n",
       "      <th>max</th>\n",
       "      <td>1.000000</td>\n",
       "      <td>1.000000</td>\n",
       "      <td>1.000000</td>\n",
       "      <td>7.000000</td>\n",
       "      <td>310.000000</td>\n",
       "      <td>10.000000</td>\n",
       "      <td>1.000000</td>\n",
       "      <td>1.000000</td>\n",
       "    </tr>\n",
       "  </tbody>\n",
       "</table>\n",
       "</div>"
      ],
      "text/plain": [
       "           turnover  satisfaction    evaluation  projectCount  \\\n",
       "count  14999.000000  14999.000000  14999.000000  14999.000000   \n",
       "mean       0.238083      0.612834      0.716102      3.803054   \n",
       "std        0.425924      0.248631      0.171169      1.232592   \n",
       "min        0.000000      0.090000      0.360000      2.000000   \n",
       "25%        0.000000      0.440000      0.560000      3.000000   \n",
       "50%        0.000000      0.640000      0.720000      4.000000   \n",
       "75%        0.000000      0.820000      0.870000      5.000000   \n",
       "max        1.000000      1.000000      1.000000      7.000000   \n",
       "\n",
       "       averageMonthlyHours  yearsAtCompany  workAccident     promotion  \n",
       "count         14999.000000    14999.000000  14999.000000  14999.000000  \n",
       "mean            201.050337        3.498233      0.144610      0.021268  \n",
       "std              49.943099        1.460136      0.351719      0.144281  \n",
       "min              96.000000        2.000000      0.000000      0.000000  \n",
       "25%             156.000000        3.000000      0.000000      0.000000  \n",
       "50%             200.000000        3.000000      0.000000      0.000000  \n",
       "75%             245.000000        4.000000      0.000000      0.000000  \n",
       "max             310.000000       10.000000      1.000000      1.000000  "
      ]
     },
     "execution_count": 10,
     "metadata": {},
     "output_type": "execute_result"
    }
   ],
   "source": [
    "# 显示统计数据\n",
    "df.describe()"
   ]
  },
  {
   "cell_type": "code",
   "execution_count": 11,
   "metadata": {
    "_cell_guid": "d61efd5d-5c2c-4b3c-b2ac-22d562c9e91a",
    "_uuid": "cfb764723207606d3e7fe991b17cd648e04c0a7a"
   },
   "outputs": [
    {
     "data": {
      "text/html": [
       "<div>\n",
       "<style scoped>\n",
       "    .dataframe tbody tr th:only-of-type {\n",
       "        vertical-align: middle;\n",
       "    }\n",
       "\n",
       "    .dataframe tbody tr th {\n",
       "        vertical-align: top;\n",
       "    }\n",
       "\n",
       "    .dataframe thead th {\n",
       "        text-align: right;\n",
       "    }\n",
       "</style>\n",
       "<table border=\"1\" class=\"dataframe\">\n",
       "  <thead>\n",
       "    <tr style=\"text-align: right;\">\n",
       "      <th></th>\n",
       "      <th>satisfaction</th>\n",
       "      <th>evaluation</th>\n",
       "      <th>projectCount</th>\n",
       "      <th>averageMonthlyHours</th>\n",
       "      <th>yearsAtCompany</th>\n",
       "      <th>workAccident</th>\n",
       "      <th>promotion</th>\n",
       "    </tr>\n",
       "    <tr>\n",
       "      <th>turnover</th>\n",
       "      <th></th>\n",
       "      <th></th>\n",
       "      <th></th>\n",
       "      <th></th>\n",
       "      <th></th>\n",
       "      <th></th>\n",
       "      <th></th>\n",
       "    </tr>\n",
       "  </thead>\n",
       "  <tbody>\n",
       "    <tr>\n",
       "      <th>0</th>\n",
       "      <td>0.666810</td>\n",
       "      <td>0.715473</td>\n",
       "      <td>3.786664</td>\n",
       "      <td>199.060203</td>\n",
       "      <td>3.380032</td>\n",
       "      <td>0.175009</td>\n",
       "      <td>0.026251</td>\n",
       "    </tr>\n",
       "    <tr>\n",
       "      <th>1</th>\n",
       "      <td>0.440098</td>\n",
       "      <td>0.718113</td>\n",
       "      <td>3.855503</td>\n",
       "      <td>207.419210</td>\n",
       "      <td>3.876505</td>\n",
       "      <td>0.047326</td>\n",
       "      <td>0.005321</td>\n",
       "    </tr>\n",
       "  </tbody>\n",
       "</table>\n",
       "</div>"
      ],
      "text/plain": [
       "          satisfaction  evaluation  projectCount  averageMonthlyHours  \\\n",
       "turnover                                                                \n",
       "0             0.666810    0.715473      3.786664           199.060203   \n",
       "1             0.440098    0.718113      3.855503           207.419210   \n",
       "\n",
       "          yearsAtCompany  workAccident  promotion  \n",
       "turnover                                           \n",
       "0               3.380032      0.175009   0.026251  \n",
       "1               3.876505      0.047326   0.005321  "
      ]
     },
     "execution_count": 11,
     "metadata": {},
     "output_type": "execute_result"
    }
   ],
   "source": [
    "# 分组的平均数据统计\n",
    "turnover_Summary = df.groupby('turnover')\n",
    "turnover_Summary.mean()"
   ]
  },
  {
   "cell_type": "markdown",
   "metadata": {
    "_cell_guid": "918f20ff-ed2c-43dd-849c-b7d751aeed86",
    "_uuid": "bed79decbf6495197f8f0219212c41c0042e196e"
   },
   "source": [
    "##  相关性分析\n",
    "***\n",
    "**正相关的特征:** \n",
    "- projectCount VS evaluation: 0.349333\n",
    "- projectCount VS averageMonthlyHours:  0.417211\n",
    "- averageMonthlyHours VS evaluation: 0.339742\n",
    "\n",
    "**负相关的特征:**\n",
    " - satisfaction VS turnover:  -0.388375\n",
    "\n",
    "**思考:**\n",
    "- 什么特征的影响最大?\n",
    "- 什么特征之间相关性最大?\n"
   ]
  },
  {
   "cell_type": "code",
   "execution_count": 12,
   "metadata": {
    "_cell_guid": "20d2f962-fcfa-434c-88ab-12dc05071b03",
    "_uuid": "1e2cb2cce7d8edf2ecd13a7197063ef3eea8d073",
    "scrolled": true
   },
   "outputs": [
    {
     "data": {
      "text/html": [
       "<div>\n",
       "<style scoped>\n",
       "    .dataframe tbody tr th:only-of-type {\n",
       "        vertical-align: middle;\n",
       "    }\n",
       "\n",
       "    .dataframe tbody tr th {\n",
       "        vertical-align: top;\n",
       "    }\n",
       "\n",
       "    .dataframe thead th {\n",
       "        text-align: right;\n",
       "    }\n",
       "</style>\n",
       "<table border=\"1\" class=\"dataframe\">\n",
       "  <thead>\n",
       "    <tr style=\"text-align: right;\">\n",
       "      <th></th>\n",
       "      <th>turnover</th>\n",
       "      <th>satisfaction</th>\n",
       "      <th>evaluation</th>\n",
       "      <th>projectCount</th>\n",
       "      <th>averageMonthlyHours</th>\n",
       "      <th>yearsAtCompany</th>\n",
       "      <th>workAccident</th>\n",
       "      <th>promotion</th>\n",
       "    </tr>\n",
       "  </thead>\n",
       "  <tbody>\n",
       "    <tr>\n",
       "      <th>turnover</th>\n",
       "      <td>1.000000</td>\n",
       "      <td>-0.388375</td>\n",
       "      <td>0.006567</td>\n",
       "      <td>0.023787</td>\n",
       "      <td>0.071287</td>\n",
       "      <td>0.144822</td>\n",
       "      <td>-0.154622</td>\n",
       "      <td>-0.061788</td>\n",
       "    </tr>\n",
       "    <tr>\n",
       "      <th>satisfaction</th>\n",
       "      <td>-0.388375</td>\n",
       "      <td>1.000000</td>\n",
       "      <td>0.105021</td>\n",
       "      <td>-0.142970</td>\n",
       "      <td>-0.020048</td>\n",
       "      <td>-0.100866</td>\n",
       "      <td>0.058697</td>\n",
       "      <td>0.025605</td>\n",
       "    </tr>\n",
       "    <tr>\n",
       "      <th>evaluation</th>\n",
       "      <td>0.006567</td>\n",
       "      <td>0.105021</td>\n",
       "      <td>1.000000</td>\n",
       "      <td>0.349333</td>\n",
       "      <td>0.339742</td>\n",
       "      <td>0.131591</td>\n",
       "      <td>-0.007104</td>\n",
       "      <td>-0.008684</td>\n",
       "    </tr>\n",
       "    <tr>\n",
       "      <th>projectCount</th>\n",
       "      <td>0.023787</td>\n",
       "      <td>-0.142970</td>\n",
       "      <td>0.349333</td>\n",
       "      <td>1.000000</td>\n",
       "      <td>0.417211</td>\n",
       "      <td>0.196786</td>\n",
       "      <td>-0.004741</td>\n",
       "      <td>-0.006064</td>\n",
       "    </tr>\n",
       "    <tr>\n",
       "      <th>averageMonthlyHours</th>\n",
       "      <td>0.071287</td>\n",
       "      <td>-0.020048</td>\n",
       "      <td>0.339742</td>\n",
       "      <td>0.417211</td>\n",
       "      <td>1.000000</td>\n",
       "      <td>0.127755</td>\n",
       "      <td>-0.010143</td>\n",
       "      <td>-0.003544</td>\n",
       "    </tr>\n",
       "    <tr>\n",
       "      <th>yearsAtCompany</th>\n",
       "      <td>0.144822</td>\n",
       "      <td>-0.100866</td>\n",
       "      <td>0.131591</td>\n",
       "      <td>0.196786</td>\n",
       "      <td>0.127755</td>\n",
       "      <td>1.000000</td>\n",
       "      <td>0.002120</td>\n",
       "      <td>0.067433</td>\n",
       "    </tr>\n",
       "    <tr>\n",
       "      <th>workAccident</th>\n",
       "      <td>-0.154622</td>\n",
       "      <td>0.058697</td>\n",
       "      <td>-0.007104</td>\n",
       "      <td>-0.004741</td>\n",
       "      <td>-0.010143</td>\n",
       "      <td>0.002120</td>\n",
       "      <td>1.000000</td>\n",
       "      <td>0.039245</td>\n",
       "    </tr>\n",
       "    <tr>\n",
       "      <th>promotion</th>\n",
       "      <td>-0.061788</td>\n",
       "      <td>0.025605</td>\n",
       "      <td>-0.008684</td>\n",
       "      <td>-0.006064</td>\n",
       "      <td>-0.003544</td>\n",
       "      <td>0.067433</td>\n",
       "      <td>0.039245</td>\n",
       "      <td>1.000000</td>\n",
       "    </tr>\n",
       "  </tbody>\n",
       "</table>\n",
       "</div>"
      ],
      "text/plain": [
       "                     turnover  satisfaction  evaluation  projectCount  \\\n",
       "turnover             1.000000     -0.388375    0.006567      0.023787   \n",
       "satisfaction        -0.388375      1.000000    0.105021     -0.142970   \n",
       "evaluation           0.006567      0.105021    1.000000      0.349333   \n",
       "projectCount         0.023787     -0.142970    0.349333      1.000000   \n",
       "averageMonthlyHours  0.071287     -0.020048    0.339742      0.417211   \n",
       "yearsAtCompany       0.144822     -0.100866    0.131591      0.196786   \n",
       "workAccident        -0.154622      0.058697   -0.007104     -0.004741   \n",
       "promotion           -0.061788      0.025605   -0.008684     -0.006064   \n",
       "\n",
       "                     averageMonthlyHours  yearsAtCompany  workAccident  \\\n",
       "turnover                        0.071287        0.144822     -0.154622   \n",
       "satisfaction                   -0.020048       -0.100866      0.058697   \n",
       "evaluation                      0.339742        0.131591     -0.007104   \n",
       "projectCount                    0.417211        0.196786     -0.004741   \n",
       "averageMonthlyHours             1.000000        0.127755     -0.010143   \n",
       "yearsAtCompany                  0.127755        1.000000      0.002120   \n",
       "workAccident                   -0.010143        0.002120      1.000000   \n",
       "promotion                      -0.003544        0.067433      0.039245   \n",
       "\n",
       "                     promotion  \n",
       "turnover             -0.061788  \n",
       "satisfaction          0.025605  \n",
       "evaluation           -0.008684  \n",
       "projectCount         -0.006064  \n",
       "averageMonthlyHours  -0.003544  \n",
       "yearsAtCompany        0.067433  \n",
       "workAccident          0.039245  \n",
       "promotion             1.000000  "
      ]
     },
     "execution_count": 12,
     "metadata": {},
     "output_type": "execute_result"
    },
    {
     "data": {
      "image/png": "[encoded data removed]",
      "text/plain": [
       "<Figure size 432x288 with 2 Axes>"
      ]
     },
     "metadata": {
      "needs_background": "light"
     },
     "output_type": "display_data"
    }
   ],
   "source": [
    "# 相关性矩阵\n",
    "corr = df.corr()\n",
    "sns.heatmap(corr, \n",
    "            xticklabels=corr.columns.values,\n",
    "            yticklabels=corr.columns.values)\n",
    "\n",
    "corr"
   ]
  },
  {
   "cell_type": "code",
   "execution_count": 13,
   "metadata": {
    "_cell_guid": "2e1c6ff1-1140-4892-b928-03df51d88fae",
    "_uuid": "90b9a8841cbc9c404923acf05a7f607c6df05bb6"
   },
   "outputs": [
    {
     "name": "stdout",
     "output_type": "stream",
     "text": [
      "未离职员工满意度: 0.666809590479516\n",
      "离职员工满意度: 0.44009801176140917\n"
     ]
    }
   ],
   "source": [
    "# 比较离职和未离职员工的满意度\n",
    "emp_population = df['satisfaction'][df['turnover'] == 0].mean()\n",
    "emp_turnover_satisfaction = df[df['turnover']==1]['satisfaction'].mean()\n",
    "\n",
    "print( '未离职员工满意度: ' + str(emp_population))\n",
    "print( '离职员工满意度: ' + str(emp_turnover_satisfaction) )"
   ]
  },
  {
   "cell_type": "markdown",
   "metadata": {
    "_cell_guid": "1a35ccd8-f60d-42d0-afb5-f8c32e01925a",
    "_uuid": "797103751f3468f19e22b0b9bdfb97a46737a30c"
   },
   "source": [
    "## 进行 T-Test\n",
    "***\n",
    "进行一个 t-test, 看离职员工的满意度是不是和未离职员工的满意度明显不同\n"
   ]
  },
  {
   "cell_type": "code",
   "execution_count": 14,
   "metadata": {
    "_cell_guid": "3ce92ea4-829d-45bc-8547-ab4b1f261684",
    "_uuid": "7d9177f88ffe8bf88148390454b00abc00195467"
   },
   "outputs": [
    {
     "data": {
      "text/plain": [
       "Ttest_1sampResult(statistic=-51.3303486754725, pvalue=0.0)"
      ]
     },
     "execution_count": 14,
     "metadata": {},
     "output_type": "execute_result"
    }
   ],
   "source": [
    "import scipy.stats as stats\n",
    "# 满意度的t-Test\n",
    "stats.ttest_1samp(a = df[df['turnover']==1]['satisfaction'], # 离职员工的满意度样本\n",
    "                  popmean = emp_population)  # 未离职员工的满意度均值"
   ]
  },
  {
   "cell_type": "markdown",
   "metadata": {
    "_cell_guid": "9a021234-21cb-4194-9179-b9ba373912cd",
    "_uuid": "a4abedc33125e59fd0fb368cd10d612ff09c6b80"
   },
   "source": [
    "T-Test 显示pvalue **(0)** 非常小, 所以他们之间是显著不同的"
   ]
  },
  {
   "cell_type": "code",
   "execution_count": 15,
   "metadata": {
    "_cell_guid": "207f67ca-f12f-4b20-a649-85b8dfeac3f2",
    "_uuid": "da9473ae9e6fc971e89ac291e57f208526ab58d1",
    "scrolled": true
   },
   "outputs": [
    {
     "name": "stdout",
     "output_type": "stream",
     "text": [
      "The t-分布 左边界: -1.9606285215955626\n",
      "The t-分布 右边界: 1.9606285215955621\n"
     ]
    }
   ],
   "source": [
    "degree_freedom = len(df[df['turnover']==1])\n",
    "# 临界值\n",
    "LQ = stats.t.ppf(0.025,degree_freedom)  # 95%致信区间的左边界\n",
    "RQ = stats.t.ppf(0.975,degree_freedom)  # 95%致信区间的右边界\n",
    "print ('The t-分布 左边界: ' + str(LQ))\n",
    "print ('The t-分布 右边界: ' + str(RQ))"
   ]
  },
  {
   "cell_type": "code",
   "execution_count": 16,
   "metadata": {
    "_cell_guid": "c83e7515-15b7-42c5-b4a2-79d4b7c40086",
    "_uuid": "ad1e101b036b2bd2ac1ee0eb148b46ea8978ef3c"
   },
   "outputs": [
    {
     "data": {
      "text/plain": [
       "Text(0.5, 1.0, '工作评价的概率密度函数 - 离职 V.S. 未离职')"
      ]
     },
     "execution_count": 16,
     "metadata": {},
     "output_type": "execute_result"
    },
    {
     "name": "stderr",
     "output_type": "stream",
     "text": [
      "D:\\tool\\Anacond\\lib\\site-packages\\matplotlib\\backends\\backend_agg.py:238: RuntimeWarning: Glyph 24037 missing from current font.\n",
      "  font.set_text(s, 0.0, flags=flags)\n",
      "D:\\tool\\Anacond\\lib\\site-packages\\matplotlib\\backends\\backend_agg.py:238: RuntimeWarning: Glyph 20316 missing from current font.\n",
      "  font.set_text(s, 0.0, flags=flags)\n",
      "D:\\tool\\Anacond\\lib\\site-packages\\matplotlib\\backends\\backend_agg.py:238: RuntimeWarning: Glyph 35780 missing from current font.\n",
      "  font.set_text(s, 0.0, flags=flags)\n",
      "D:\\tool\\Anacond\\lib\\site-packages\\matplotlib\\backends\\backend_agg.py:238: RuntimeWarning: Glyph 20215 missing from current font.\n",
      "  font.set_text(s, 0.0, flags=flags)\n",
      "D:\\tool\\Anacond\\lib\\site-packages\\matplotlib\\backends\\backend_agg.py:238: RuntimeWarning: Glyph 30340 missing from current font.\n",
      "  font.set_text(s, 0.0, flags=flags)\n",
      "D:\\tool\\Anacond\\lib\\site-packages\\matplotlib\\backends\\backend_agg.py:238: RuntimeWarning: Glyph 27010 missing from current font.\n",
      "  font.set_text(s, 0.0, flags=flags)\n",
      "D:\\tool\\Anacond\\lib\\site-packages\\matplotlib\\backends\\backend_agg.py:238: RuntimeWarning: Glyph 29575 missing from current font.\n",
      "  font.set_text(s, 0.0, flags=flags)\n",
      "D:\\tool\\Anacond\\lib\\site-packages\\matplotlib\\backends\\backend_agg.py:238: RuntimeWarning: Glyph 23494 missing from current font.\n",
      "  font.set_text(s, 0.0, flags=flags)\n",
      "D:\\tool\\Anacond\\lib\\site-packages\\matplotlib\\backends\\backend_agg.py:238: RuntimeWarning: Glyph 24230 missing from current font.\n",
      "  font.set_text(s, 0.0, flags=flags)\n",
      "D:\\tool\\Anacond\\lib\\site-packages\\matplotlib\\backends\\backend_agg.py:238: RuntimeWarning: Glyph 20989 missing from current font.\n",
      "  font.set_text(s, 0.0, flags=flags)\n",
      "D:\\tool\\Anacond\\lib\\site-packages\\matplotlib\\backends\\backend_agg.py:238: RuntimeWarning: Glyph 25968 missing from current font.\n",
      "  font.set_text(s, 0.0, flags=flags)\n",
      "D:\\tool\\Anacond\\lib\\site-packages\\matplotlib\\backends\\backend_agg.py:238: RuntimeWarning: Glyph 31163 missing from current font.\n",
      "  font.set_text(s, 0.0, flags=flags)\n",
      "D:\\tool\\Anacond\\lib\\site-packages\\matplotlib\\backends\\backend_agg.py:238: RuntimeWarning: Glyph 32844 missing from current font.\n",
      "  font.set_text(s, 0.0, flags=flags)\n",
      "D:\\tool\\Anacond\\lib\\site-packages\\matplotlib\\backends\\backend_agg.py:238: RuntimeWarning: Glyph 26410 missing from current font.\n",
      "  font.set_text(s, 0.0, flags=flags)\n",
      "D:\\tool\\Anacond\\lib\\site-packages\\matplotlib\\backends\\backend_agg.py:238: RuntimeWarning: Glyph 39057 missing from current font.\n",
      "  font.set_text(s, 0.0, flags=flags)\n",
      "D:\\tool\\Anacond\\lib\\site-packages\\matplotlib\\backends\\backend_agg.py:201: RuntimeWarning: Glyph 24037 missing from current font.\n",
      "  font.set_text(s, 0, flags=flags)\n",
      "D:\\tool\\Anacond\\lib\\site-packages\\matplotlib\\backends\\backend_agg.py:201: RuntimeWarning: Glyph 20316 missing from current font.\n",
      "  font.set_text(s, 0, flags=flags)\n",
      "D:\\tool\\Anacond\\lib\\site-packages\\matplotlib\\backends\\backend_agg.py:201: RuntimeWarning: Glyph 35780 missing from current font.\n",
      "  font.set_text(s, 0, flags=flags)\n",
      "D:\\tool\\Anacond\\lib\\site-packages\\matplotlib\\backends\\backend_agg.py:201: RuntimeWarning: Glyph 20215 missing from current font.\n",
      "  font.set_text(s, 0, flags=flags)\n",
      "D:\\tool\\Anacond\\lib\\site-packages\\matplotlib\\backends\\backend_agg.py:201: RuntimeWarning: Glyph 39057 missing from current font.\n",
      "  font.set_text(s, 0, flags=flags)\n",
      "D:\\tool\\Anacond\\lib\\site-packages\\matplotlib\\backends\\backend_agg.py:201: RuntimeWarning: Glyph 29575 missing from current font.\n",
      "  font.set_text(s, 0, flags=flags)\n",
      "D:\\tool\\Anacond\\lib\\site-packages\\matplotlib\\backends\\backend_agg.py:201: RuntimeWarning: Glyph 30340 missing from current font.\n",
      "  font.set_text(s, 0, flags=flags)\n",
      "D:\\tool\\Anacond\\lib\\site-packages\\matplotlib\\backends\\backend_agg.py:201: RuntimeWarning: Glyph 27010 missing from current font.\n",
      "  font.set_text(s, 0, flags=flags)\n",
      "D:\\tool\\Anacond\\lib\\site-packages\\matplotlib\\backends\\backend_agg.py:201: RuntimeWarning: Glyph 23494 missing from current font.\n",
      "  font.set_text(s, 0, flags=flags)\n",
      "D:\\tool\\Anacond\\lib\\site-packages\\matplotlib\\backends\\backend_agg.py:201: RuntimeWarning: Glyph 24230 missing from current font.\n",
      "  font.set_text(s, 0, flags=flags)\n",
      "D:\\tool\\Anacond\\lib\\site-packages\\matplotlib\\backends\\backend_agg.py:201: RuntimeWarning: Glyph 20989 missing from current font.\n",
      "  font.set_text(s, 0, flags=flags)\n",
      "D:\\tool\\Anacond\\lib\\site-packages\\matplotlib\\backends\\backend_agg.py:201: RuntimeWarning: Glyph 25968 missing from current font.\n",
      "  font.set_text(s, 0, flags=flags)\n",
      "D:\\tool\\Anacond\\lib\\site-packages\\matplotlib\\backends\\backend_agg.py:201: RuntimeWarning: Glyph 31163 missing from current font.\n",
      "  font.set_text(s, 0, flags=flags)\n",
      "D:\\tool\\Anacond\\lib\\site-packages\\matplotlib\\backends\\backend_agg.py:201: RuntimeWarning: Glyph 32844 missing from current font.\n",
      "  font.set_text(s, 0, flags=flags)\n",
      "D:\\tool\\Anacond\\lib\\site-packages\\matplotlib\\backends\\backend_agg.py:201: RuntimeWarning: Glyph 26410 missing from current font.\n",
      "  font.set_text(s, 0, flags=flags)\n"
     ]
    },
    {
     "data": {
      "image/png": "[encoded data removed]",
      "text/plain": [
       "<Figure size 1080x288 with 1 Axes>"
      ]
     },
     "metadata": {
      "needs_background": "light"
     },
     "output_type": "display_data"
    }
   ],
   "source": [
    "# 工作评价的概率密度函数估计\n",
    "fig = plt.figure(figsize=(15,4),)\n",
    "ax=sns.kdeplot(df.loc[(df['turnover'] == 0),'evaluation'] , color='b',shade=True,label='no turnover')\n",
    "ax=sns.kdeplot(df.loc[(df['turnover'] == 1),'evaluation'] , color='r',shade=True, label='turnover')\n",
    "ax.set(xlabel='工作评价', ylabel='频率')\n",
    "plt.title('工作评价的概率密度函数 - 离职 V.S. 未离职')"
   ]
  },
  {
   "cell_type": "code",
   "execution_count": 17,
   "metadata": {
    "_cell_guid": "856a761b-b0a1-46e2-a751-58ad923bd5b3",
    "_uuid": "7e431f421027da4cd00322c0f206ce2840cc42a3",
    "scrolled": true
   },
   "outputs": [
    {
     "data": {
      "text/plain": [
       "Text(0.5, 1.0, '月工作时长（时） - 离职 V.S. 未离职')"
      ]
     },
     "execution_count": 17,
     "metadata": {},
     "output_type": "execute_result"
    },
    {
     "name": "stderr",
     "output_type": "stream",
     "text": [
      "D:\\tool\\Anacond\\lib\\site-packages\\matplotlib\\backends\\backend_agg.py:238: RuntimeWarning: Glyph 26376 missing from current font.\n",
      "  font.set_text(s, 0.0, flags=flags)\n",
      "D:\\tool\\Anacond\\lib\\site-packages\\matplotlib\\backends\\backend_agg.py:238: RuntimeWarning: Glyph 24037 missing from current font.\n",
      "  font.set_text(s, 0.0, flags=flags)\n",
      "D:\\tool\\Anacond\\lib\\site-packages\\matplotlib\\backends\\backend_agg.py:238: RuntimeWarning: Glyph 20316 missing from current font.\n",
      "  font.set_text(s, 0.0, flags=flags)\n",
      "D:\\tool\\Anacond\\lib\\site-packages\\matplotlib\\backends\\backend_agg.py:238: RuntimeWarning: Glyph 26102 missing from current font.\n",
      "  font.set_text(s, 0.0, flags=flags)\n",
      "D:\\tool\\Anacond\\lib\\site-packages\\matplotlib\\backends\\backend_agg.py:238: RuntimeWarning: Glyph 38271 missing from current font.\n",
      "  font.set_text(s, 0.0, flags=flags)\n",
      "D:\\tool\\Anacond\\lib\\site-packages\\matplotlib\\backends\\backend_agg.py:238: RuntimeWarning: Glyph 65288 missing from current font.\n",
      "  font.set_text(s, 0.0, flags=flags)\n",
      "D:\\tool\\Anacond\\lib\\site-packages\\matplotlib\\backends\\backend_agg.py:238: RuntimeWarning: Glyph 65289 missing from current font.\n",
      "  font.set_text(s, 0.0, flags=flags)\n",
      "D:\\tool\\Anacond\\lib\\site-packages\\matplotlib\\backends\\backend_agg.py:238: RuntimeWarning: Glyph 31163 missing from current font.\n",
      "  font.set_text(s, 0.0, flags=flags)\n",
      "D:\\tool\\Anacond\\lib\\site-packages\\matplotlib\\backends\\backend_agg.py:238: RuntimeWarning: Glyph 32844 missing from current font.\n",
      "  font.set_text(s, 0.0, flags=flags)\n",
      "D:\\tool\\Anacond\\lib\\site-packages\\matplotlib\\backends\\backend_agg.py:238: RuntimeWarning: Glyph 26410 missing from current font.\n",
      "  font.set_text(s, 0.0, flags=flags)\n",
      "D:\\tool\\Anacond\\lib\\site-packages\\matplotlib\\backends\\backend_agg.py:238: RuntimeWarning: Glyph 39057 missing from current font.\n",
      "  font.set_text(s, 0.0, flags=flags)\n",
      "D:\\tool\\Anacond\\lib\\site-packages\\matplotlib\\backends\\backend_agg.py:238: RuntimeWarning: Glyph 29575 missing from current font.\n",
      "  font.set_text(s, 0.0, flags=flags)\n",
      "D:\\tool\\Anacond\\lib\\site-packages\\matplotlib\\backends\\backend_agg.py:201: RuntimeWarning: Glyph 26376 missing from current font.\n",
      "  font.set_text(s, 0, flags=flags)\n",
      "D:\\tool\\Anacond\\lib\\site-packages\\matplotlib\\backends\\backend_agg.py:201: RuntimeWarning: Glyph 24037 missing from current font.\n",
      "  font.set_text(s, 0, flags=flags)\n",
      "D:\\tool\\Anacond\\lib\\site-packages\\matplotlib\\backends\\backend_agg.py:201: RuntimeWarning: Glyph 20316 missing from current font.\n",
      "  font.set_text(s, 0, flags=flags)\n",
      "D:\\tool\\Anacond\\lib\\site-packages\\matplotlib\\backends\\backend_agg.py:201: RuntimeWarning: Glyph 26102 missing from current font.\n",
      "  font.set_text(s, 0, flags=flags)\n",
      "D:\\tool\\Anacond\\lib\\site-packages\\matplotlib\\backends\\backend_agg.py:201: RuntimeWarning: Glyph 38271 missing from current font.\n",
      "  font.set_text(s, 0, flags=flags)\n",
      "D:\\tool\\Anacond\\lib\\site-packages\\matplotlib\\backends\\backend_agg.py:201: RuntimeWarning: Glyph 65288 missing from current font.\n",
      "  font.set_text(s, 0, flags=flags)\n",
      "D:\\tool\\Anacond\\lib\\site-packages\\matplotlib\\backends\\backend_agg.py:201: RuntimeWarning: Glyph 65289 missing from current font.\n",
      "  font.set_text(s, 0, flags=flags)\n",
      "D:\\tool\\Anacond\\lib\\site-packages\\matplotlib\\backends\\backend_agg.py:201: RuntimeWarning: Glyph 39057 missing from current font.\n",
      "  font.set_text(s, 0, flags=flags)\n",
      "D:\\tool\\Anacond\\lib\\site-packages\\matplotlib\\backends\\backend_agg.py:201: RuntimeWarning: Glyph 29575 missing from current font.\n",
      "  font.set_text(s, 0, flags=flags)\n",
      "D:\\tool\\Anacond\\lib\\site-packages\\matplotlib\\backends\\backend_agg.py:201: RuntimeWarning: Glyph 31163 missing from current font.\n",
      "  font.set_text(s, 0, flags=flags)\n",
      "D:\\tool\\Anacond\\lib\\site-packages\\matplotlib\\backends\\backend_agg.py:201: RuntimeWarning: Glyph 32844 missing from current font.\n",
      "  font.set_text(s, 0, flags=flags)\n",
      "D:\\tool\\Anacond\\lib\\site-packages\\matplotlib\\backends\\backend_agg.py:201: RuntimeWarning: Glyph 26410 missing from current font.\n",
      "  font.set_text(s, 0, flags=flags)\n"
     ]
    },
    {
     "data": {
      "image/png": "[encoded data removed]",
      "text/plain": [
       "<Figure size 1080x288 with 1 Axes>"
      ]
     },
     "metadata": {
      "needs_background": "light"
     },
     "output_type": "display_data"
    }
   ],
   "source": [
    "# 月平均工作时长概率密度函数估计\n",
    "fig = plt.figure(figsize=(15,4))\n",
    "ax=sns.kdeplot(df.loc[(df['turnover'] == 0),'averageMonthlyHours'] , color='b',shade=True, label='no turnover')\n",
    "ax=sns.kdeplot(df.loc[(df['turnover'] == 1),'averageMonthlyHours'] , color='r',shade=True, label='turnover')\n",
    "ax.set(xlabel='月工作时长（时）', ylabel='频率')\n",
    "plt.title('月工作时长（时） - 离职 V.S. 未离职')"
   ]
  },
  {
   "cell_type": "code",
   "execution_count": 18,
   "metadata": {
    "_cell_guid": "be7ff8b9-1523-43d4-8243-1443cb3b8186",
    "_uuid": "68bd32416c8feaf927c20bd17beaa8133e8836c6",
    "scrolled": true
   },
   "outputs": [
    {
     "data": {
      "text/plain": [
       "Text(0.5, 1.0, '员工满意度 - 离职 V.S. 未离职')"
      ]
     },
     "execution_count": 18,
     "metadata": {},
     "output_type": "execute_result"
    },
    {
     "name": "stderr",
     "output_type": "stream",
     "text": [
      "D:\\tool\\Anacond\\lib\\site-packages\\matplotlib\\backends\\backend_agg.py:238: RuntimeWarning: Glyph 21592 missing from current font.\n",
      "  font.set_text(s, 0.0, flags=flags)\n",
      "D:\\tool\\Anacond\\lib\\site-packages\\matplotlib\\backends\\backend_agg.py:238: RuntimeWarning: Glyph 24037 missing from current font.\n",
      "  font.set_text(s, 0.0, flags=flags)\n",
      "D:\\tool\\Anacond\\lib\\site-packages\\matplotlib\\backends\\backend_agg.py:238: RuntimeWarning: Glyph 28385 missing from current font.\n",
      "  font.set_text(s, 0.0, flags=flags)\n",
      "D:\\tool\\Anacond\\lib\\site-packages\\matplotlib\\backends\\backend_agg.py:238: RuntimeWarning: Glyph 24847 missing from current font.\n",
      "  font.set_text(s, 0.0, flags=flags)\n",
      "D:\\tool\\Anacond\\lib\\site-packages\\matplotlib\\backends\\backend_agg.py:238: RuntimeWarning: Glyph 24230 missing from current font.\n",
      "  font.set_text(s, 0.0, flags=flags)\n",
      "D:\\tool\\Anacond\\lib\\site-packages\\matplotlib\\backends\\backend_agg.py:238: RuntimeWarning: Glyph 31163 missing from current font.\n",
      "  font.set_text(s, 0.0, flags=flags)\n",
      "D:\\tool\\Anacond\\lib\\site-packages\\matplotlib\\backends\\backend_agg.py:238: RuntimeWarning: Glyph 32844 missing from current font.\n",
      "  font.set_text(s, 0.0, flags=flags)\n",
      "D:\\tool\\Anacond\\lib\\site-packages\\matplotlib\\backends\\backend_agg.py:238: RuntimeWarning: Glyph 26410 missing from current font.\n",
      "  font.set_text(s, 0.0, flags=flags)\n",
      "D:\\tool\\Anacond\\lib\\site-packages\\matplotlib\\backends\\backend_agg.py:201: RuntimeWarning: Glyph 21592 missing from current font.\n",
      "  font.set_text(s, 0, flags=flags)\n",
      "D:\\tool\\Anacond\\lib\\site-packages\\matplotlib\\backends\\backend_agg.py:201: RuntimeWarning: Glyph 24037 missing from current font.\n",
      "  font.set_text(s, 0, flags=flags)\n",
      "D:\\tool\\Anacond\\lib\\site-packages\\matplotlib\\backends\\backend_agg.py:201: RuntimeWarning: Glyph 28385 missing from current font.\n",
      "  font.set_text(s, 0, flags=flags)\n",
      "D:\\tool\\Anacond\\lib\\site-packages\\matplotlib\\backends\\backend_agg.py:201: RuntimeWarning: Glyph 24847 missing from current font.\n",
      "  font.set_text(s, 0, flags=flags)\n",
      "D:\\tool\\Anacond\\lib\\site-packages\\matplotlib\\backends\\backend_agg.py:201: RuntimeWarning: Glyph 24230 missing from current font.\n",
      "  font.set_text(s, 0, flags=flags)\n",
      "D:\\tool\\Anacond\\lib\\site-packages\\matplotlib\\backends\\backend_agg.py:201: RuntimeWarning: Glyph 31163 missing from current font.\n",
      "  font.set_text(s, 0, flags=flags)\n",
      "D:\\tool\\Anacond\\lib\\site-packages\\matplotlib\\backends\\backend_agg.py:201: RuntimeWarning: Glyph 32844 missing from current font.\n",
      "  font.set_text(s, 0, flags=flags)\n",
      "D:\\tool\\Anacond\\lib\\site-packages\\matplotlib\\backends\\backend_agg.py:201: RuntimeWarning: Glyph 26410 missing from current font.\n",
      "  font.set_text(s, 0, flags=flags)\n"
     ]
    },
    {
     "data": {
      "image/png": "[encoded data removed]",
      "text/plain": [
       "<Figure size 1080x288 with 1 Axes>"
      ]
     },
     "metadata": {
      "needs_background": "light"
     },
     "output_type": "display_data"
    }
   ],
   "source": [
    "# 员工满意度概率密度函数估计\n",
    "fig = plt.figure(figsize=(15,4))\n",
    "ax=sns.kdeplot(df.loc[(df['turnover'] == 0),'satisfaction'] , color='b',shade=True, label='no turnover')\n",
    "ax=sns.kdeplot(df.loc[(df['turnover'] == 1),'satisfaction'] , color='r',shade=True, label='turnover')\n",
    "plt.title('员工满意度 - 离职 V.S. 未离职')"
   ]
  },
  {
   "cell_type": "code",
   "execution_count": 19,
   "metadata": {
    "_cell_guid": "928c8cd9-4ae0-4f7a-b029-dea37ea19472",
    "_uuid": "22f78fd2f10e6d9f87b83e74a2c89ef21c2051bf",
    "scrolled": true
   },
   "outputs": [],
   "source": [
    "from sklearn.preprocessing import LabelEncoder\n",
    "from sklearn.model_selection import train_test_split\n",
    "from sklearn.metrics import accuracy_score, classification_report, precision_score, recall_score, confusion_matrix, precision_recall_curve"
   ]
  },
  {
   "cell_type": "code",
   "execution_count": 20,
   "metadata": {
    "_cell_guid": "52a6380e-2cb1-41d9-add1-7fbb7c11a447",
    "_uuid": "2e0c1dcc07bd95aad1bd21f8068625fa656866b1"
   },
   "outputs": [
    {
     "data": {
      "text/html": [
       "<div>\n",
       "<style scoped>\n",
       "    .dataframe tbody tr th:only-of-type {\n",
       "        vertical-align: middle;\n",
       "    }\n",
       "\n",
       "    .dataframe tbody tr th {\n",
       "        vertical-align: top;\n",
       "    }\n",
       "\n",
       "    .dataframe thead th {\n",
       "        text-align: right;\n",
       "    }\n",
       "</style>\n",
       "<table border=\"1\" class=\"dataframe\">\n",
       "  <thead>\n",
       "    <tr style=\"text-align: right;\">\n",
       "      <th></th>\n",
       "      <th>turnover</th>\n",
       "      <th>satisfaction</th>\n",
       "      <th>evaluation</th>\n",
       "      <th>projectCount</th>\n",
       "      <th>averageMonthlyHours</th>\n",
       "      <th>yearsAtCompany</th>\n",
       "      <th>workAccident</th>\n",
       "      <th>promotion</th>\n",
       "      <th>department</th>\n",
       "      <th>salary</th>\n",
       "    </tr>\n",
       "  </thead>\n",
       "  <tbody>\n",
       "    <tr>\n",
       "      <th>0</th>\n",
       "      <td>1</td>\n",
       "      <td>0.38</td>\n",
       "      <td>0.53</td>\n",
       "      <td>2</td>\n",
       "      <td>157</td>\n",
       "      <td>3</td>\n",
       "      <td>0</td>\n",
       "      <td>0</td>\n",
       "      <td>7</td>\n",
       "      <td>1</td>\n",
       "    </tr>\n",
       "    <tr>\n",
       "      <th>1</th>\n",
       "      <td>1</td>\n",
       "      <td>0.80</td>\n",
       "      <td>0.86</td>\n",
       "      <td>5</td>\n",
       "      <td>262</td>\n",
       "      <td>6</td>\n",
       "      <td>0</td>\n",
       "      <td>0</td>\n",
       "      <td>7</td>\n",
       "      <td>2</td>\n",
       "    </tr>\n",
       "    <tr>\n",
       "      <th>2</th>\n",
       "      <td>1</td>\n",
       "      <td>0.11</td>\n",
       "      <td>0.88</td>\n",
       "      <td>7</td>\n",
       "      <td>272</td>\n",
       "      <td>4</td>\n",
       "      <td>0</td>\n",
       "      <td>0</td>\n",
       "      <td>7</td>\n",
       "      <td>2</td>\n",
       "    </tr>\n",
       "    <tr>\n",
       "      <th>3</th>\n",
       "      <td>1</td>\n",
       "      <td>0.72</td>\n",
       "      <td>0.87</td>\n",
       "      <td>5</td>\n",
       "      <td>223</td>\n",
       "      <td>5</td>\n",
       "      <td>0</td>\n",
       "      <td>0</td>\n",
       "      <td>7</td>\n",
       "      <td>1</td>\n",
       "    </tr>\n",
       "    <tr>\n",
       "      <th>4</th>\n",
       "      <td>1</td>\n",
       "      <td>0.37</td>\n",
       "      <td>0.52</td>\n",
       "      <td>2</td>\n",
       "      <td>159</td>\n",
       "      <td>3</td>\n",
       "      <td>0</td>\n",
       "      <td>0</td>\n",
       "      <td>7</td>\n",
       "      <td>1</td>\n",
       "    </tr>\n",
       "  </tbody>\n",
       "</table>\n",
       "</div>"
      ],
      "text/plain": [
       "   turnover  satisfaction  evaluation  projectCount  averageMonthlyHours  \\\n",
       "0         1          0.38        0.53             2                  157   \n",
       "1         1          0.80        0.86             5                  262   \n",
       "2         1          0.11        0.88             7                  272   \n",
       "3         1          0.72        0.87             5                  223   \n",
       "4         1          0.37        0.52             2                  159   \n",
       "\n",
       "   yearsAtCompany  workAccident  promotion  department  salary  \n",
       "0               3             0          0           7       1  \n",
       "1               6             0          0           7       2  \n",
       "2               4             0          0           7       2  \n",
       "3               5             0          0           7       1  \n",
       "4               3             0          0           7       1  "
      ]
     },
     "execution_count": 20,
     "metadata": {},
     "output_type": "execute_result"
    }
   ],
   "source": [
    "# 将string类型转换为整数类型\n",
    "df[\"department\"] = df[\"department\"].astype('category').cat.codes\n",
    "df[\"salary\"] = df[\"salary\"].astype('category').cat.codes\n",
    "\n",
    "# 产生X, y，即特征值与目标值\n",
    "target_name = 'turnover'\n",
    "X = df.drop('turnover', axis=1)\n",
    "y = df[target_name]\n",
    "\n",
    "# 将数据分为训练和测试数据集\n",
    "# 注意参数 stratify = y 意味着在产生训练和测试数据中, 离职的员工的百分比等于原来总的数据中的离职的员工的百分比\n",
    "X_train, X_test, y_train, y_test = train_test_split(\n",
    "    X, y, test_size=0.15, random_state=123, stratify=y)\n",
    "# 显示前5行数据\n",
    "df.head()"
   ]
  },
  {
   "cell_type": "markdown",
   "metadata": {
    "_cell_guid": "2a9855af-4efd-4692-8b60-84d6c8ddafea",
    "_uuid": "ce1f37f6997bba100650cb23814faef02d9945ea"
   },
   "source": [
    "# 决策树和随机森林Decision Tree V.S. Random Forest \n",
    "***"
   ]
  },
  {
   "cell_type": "code",
   "execution_count": 21,
   "metadata": {
    "_cell_guid": "5a76ae8a-f8af-4241-aae5-c7cd5cced2ad",
    "_uuid": "3e3565867e9559ab635430bf2045927a5f56d31a"
   },
   "outputs": [
    {
     "ename": "ModuleNotFoundError",
     "evalue": "No module named 'sklearn.externals.six'",
     "output_type": "error",
     "traceback": [
      "\u001b[1;31m---------------------------------------------------------------------------\u001b[0m",
      "\u001b[1;31mModuleNotFoundError\u001b[0m                       Traceback (most recent call last)",
      "\u001b[1;32m<ipython-input-21-b9ea96854511>\u001b[0m in \u001b[0;36m<module>\u001b[1;34m\u001b[0m\n\u001b[0;32m      5\u001b[0m \u001b[1;32mfrom\u001b[0m \u001b[0msklearn\u001b[0m\u001b[1;33m.\u001b[0m\u001b[0mtree\u001b[0m \u001b[1;32mimport\u001b[0m \u001b[0mDecisionTreeClassifier\u001b[0m\u001b[1;33m\u001b[0m\u001b[1;33m\u001b[0m\u001b[0m\n\u001b[0;32m      6\u001b[0m \u001b[1;32mfrom\u001b[0m \u001b[0msklearn\u001b[0m\u001b[1;33m.\u001b[0m\u001b[0mtree\u001b[0m \u001b[1;32mimport\u001b[0m \u001b[0mexport_graphviz\u001b[0m\u001b[1;33m\u001b[0m\u001b[1;33m\u001b[0m\u001b[0m\n\u001b[1;32m----> 7\u001b[1;33m \u001b[1;32mfrom\u001b[0m \u001b[0msklearn\u001b[0m\u001b[1;33m.\u001b[0m\u001b[0mexternals\u001b[0m\u001b[1;33m.\u001b[0m\u001b[0msix\u001b[0m \u001b[1;32mimport\u001b[0m \u001b[0mStringIO\u001b[0m\u001b[1;33m\u001b[0m\u001b[1;33m\u001b[0m\u001b[0m\n\u001b[0m\u001b[0;32m      8\u001b[0m \u001b[1;32mfrom\u001b[0m \u001b[0mIPython\u001b[0m\u001b[1;33m.\u001b[0m\u001b[0mdisplay\u001b[0m \u001b[1;32mimport\u001b[0m \u001b[0mImage\u001b[0m\u001b[1;33m\u001b[0m\u001b[1;33m\u001b[0m\u001b[0m\n\u001b[0;32m      9\u001b[0m \u001b[1;32mimport\u001b[0m \u001b[0mpydotplus\u001b[0m\u001b[1;33m\u001b[0m\u001b[1;33m\u001b[0m\u001b[0m\n",
      "\u001b[1;31mModuleNotFoundError\u001b[0m: No module named 'sklearn.externals.six'"
     ]
    }
   ],
   "source": [
    "from sklearn.metrics import roc_auc_score\n",
    "from sklearn.metrics import classification_report\n",
    "from sklearn.ensemble import RandomForestClassifier\n",
    "from sklearn import tree\n",
    "from sklearn.tree import DecisionTreeClassifier\n",
    "from sklearn.tree import export_graphviz\n",
    "from sklearn.externals.six import StringIO  \n",
    "from IPython.display import Image  \n",
    "import pydotplus "
   ]
  },
  {
   "cell_type": "markdown",
   "metadata": {},
   "source": [
    "## 决策树"
   ]
  },
  {
   "cell_type": "code",
   "execution_count": null,
   "metadata": {},
   "outputs": [],
   "source": [
    "# 实例化\n",
    "dtree = tree.DecisionTreeClassifier(\n",
    "    criterion='entropy',\n",
    "    #max_depth=3, # 定义树的深度, 可以用来防止过拟合\n",
    "    min_weight_fraction_leaf=0.01 # 定义叶子节点最少需要包含多少个样本(使用百分比表达), 防止过拟合\n",
    "    )\n",
    "# 训练\n",
    "dtree = dtree.fit(X_train,y_train)\n",
    "# 指标计算\n",
    "dt_roc_auc = roc_auc_score(y_test, dtree.predict(X_test))\n",
    "print (\"决策树 AUC = %2.2f\" % dt_roc_auc)\n",
    "print(classification_report(y_test, dtree.predict(X_test)))"
   ]
  },
  {
   "cell_type": "markdown",
   "metadata": {},
   "source": [
    "## 决策树可视化"
   ]
  },
  {
   "cell_type": "code",
   "execution_count": null,
   "metadata": {},
   "outputs": [],
   "source": [
    "# 需安装GraphViz和pydotplus进行决策树的可视化\n",
    "# 特征向量\n",
    "feature_names = df.columns[1:]\n",
    "# 文件缓存\n",
    "dot_data = StringIO()\n",
    "# 将决策树导入到dot中\n",
    "export_graphviz(dtree, out_file=dot_data,  \n",
    "                filled=True, rounded=True,\n",
    "                special_characters=True,feature_names = feature_names,class_names=['0','1'])\n",
    "# 将生成的dot文件生成graph\n",
    "graph = pydotplus.graph_from_dot_data(dot_data.getvalue())  \n",
    "# 将结果存入到png文件中\n",
    "graph.write_png('diabetes.png')\n",
    "# 显示\n",
    "Image(graph.create_png())"
   ]
  },
  {
   "cell_type": "markdown",
   "metadata": {},
   "source": [
    "## 决策树的特征重要性分析"
   ]
  },
  {
   "cell_type": "code",
   "execution_count": null,
   "metadata": {},
   "outputs": [],
   "source": [
    "# 获取特征重要性\n",
    "importances = dtree.feature_importances_\n",
    "# 获取特征名称\n",
    "feat_names = df.drop(['turnover'],axis=1).columns\n",
    "# 排序\n",
    "indices = np.argsort(importances)[::-1]\n",
    "# 绘图\n",
    "plt.figure(figsize=(12,6))\n",
    "plt.title(\"Feature importances by Decision Tree\")\n",
    "plt.bar(range(len(indices)), importances[indices], color='lightblue',  align=\"center\")\n",
    "plt.step(range(len(indices)), np.cumsum(importances[indices]), where='mid', label='Cumulative')\n",
    "plt.xticks(range(len(indices)), feat_names[indices], rotation='vertical',fontsize=14)\n",
    "plt.xlim([-1, len(indices)])\n",
    "plt.show()"
   ]
  },
  {
   "cell_type": "markdown",
   "metadata": {},
   "source": [
    "## 随机森林"
   ]
  },
  {
   "cell_type": "code",
   "execution_count": null,
   "metadata": {},
   "outputs": [],
   "source": [
    "# 实例化随机森林\n",
    "rf = RandomForestClassifier(\n",
    "    criterion='entropy',\n",
    "    n_estimators=3, \n",
    "    max_depth=None, # 定义树的深度, 可以用来防止过拟合\n",
    "    min_samples_split=10, # 定义至少多少个样本的情况下才继续分叉\n",
    "    #min_weight_fraction_leaf=0.02 # 定义叶子节点最少需要包含多少个样本(使用百分比表达), 防止过拟合\n",
    "    )\n",
    "# 模型训练\n",
    "rf.fit(X_train, y_train)\n",
    "# 计算指标参数\n",
    "rf_roc_auc = roc_auc_score(y_test, rf.predict(X_test))\n",
    "print (\"随机森林 AUC = %2.2f\" % rf_roc_auc)\n",
    "print(classification_report(y_test, rf.predict(X_test)))"
   ]
  },
  {
   "cell_type": "markdown",
   "metadata": {},
   "source": [
    "## 随机森林可视化"
   ]
  },
  {
   "cell_type": "code",
   "execution_count": null,
   "metadata": {},
   "outputs": [],
   "source": [
    "# Graphviz中未提供多棵树的绘制方法，所以我们遍历森林中的树，分别进行绘制\n",
    "Estimators = rf.estimators_\n",
    "# 遍历\n",
    "for index, model in enumerate(Estimators):\n",
    "    # 文件缓存\n",
    "    dot_data = StringIO()\n",
    "    # 将决策树导入到dot_data中\n",
    "    export_graphviz(model , out_file=dot_data,\n",
    "                         feature_names=df.columns[1:],\n",
    "                         class_names=['0','1'],\n",
    "                         filled=True, rounded=True,\n",
    "                         special_characters=True)\n",
    "    # 从数据中生成graph\n",
    "    graph = pydotplus.graph_from_dot_data(dot_data.getvalue())  \n",
    "    # 将结果写入到png文件中\n",
    "    graph.write_png('Rf{}.png'.format(index))\n",
    "    # 绘制图像\n",
    "    plt.figure(figsize = (20,20))\n",
    "    plt.imshow(plt.imread('Rf{}.png'.format(index)))\n",
    "    plt.axis('off')"
   ]
  },
  {
   "cell_type": "markdown",
   "metadata": {},
   "source": [
    "## 随机森林特征分析"
   ]
  },
  {
   "cell_type": "code",
   "execution_count": null,
   "metadata": {
    "_cell_guid": "3bae8cd1-9cc5-4e5d-b3bc-82086e4867d3",
    "_uuid": "19bd16ebb1fbc343596fa25f6bbd170064c3b855"
   },
   "outputs": [],
   "source": [
    "# 特征的重要程度\n",
    "importances = rf.feature_importances_\n",
    "# 特征名称\n",
    "feat_names = df.drop(['turnover'],axis=1).columns\n",
    "# 排序\n",
    "indices = np.argsort(importances)[::-1]\n",
    "# 绘图\n",
    "plt.figure(figsize=(12,6))\n",
    "plt.title(\"Feature importances by RandomForest\")\n",
    "plt.bar(range(len(indices)), importances[indices], color='lightblue',  align=\"center\")\n",
    "plt.step(range(len(indices)), np.cumsum(importances[indices]), where='mid', label='Cumulative')\n",
    "plt.xticks(range(len(indices)), feat_names[indices], rotation='vertical',fontsize=14)\n",
    "plt.xlim([-1, len(indices)])\n",
    "plt.show()"
   ]
  },
  {
   "cell_type": "markdown",
   "metadata": {},
   "source": [
    "## ROC曲线"
   ]
  },
  {
   "cell_type": "code",
   "execution_count": null,
   "metadata": {},
   "outputs": [],
   "source": [
    "# ROC 图\n",
    "from sklearn.metrics import roc_curve\n",
    "# 计算ROC曲线\n",
    "rf_fpr, rf_tpr, rf_thresholds = roc_curve(y_test, rf.predict_proba(X_test)[:,1])\n",
    "dt_fpr, dt_tpr, dt_thresholds = roc_curve(y_test, dtree.predict_proba(X_test)[:,1])\n",
    "\n",
    "plt.figure()\n",
    "\n",
    "# 随机森林 ROC\n",
    "plt.plot(rf_fpr, rf_tpr, label='Random Forest (area = %0.2f)' % rf_roc_auc)\n",
    "\n",
    "# 决策树 ROC\n",
    "plt.plot(dt_fpr, dt_tpr, label='Decision Tree (area = %0.2f)' % dt_roc_auc)\n",
    "# 绘图\n",
    "plt.xlim([0.0, 1.0])\n",
    "plt.ylim([0.0, 1.05])\n",
    "plt.xlabel('False Positive Rate')\n",
    "plt.ylabel('True Positive Rate')\n",
    "plt.title('ROC Graph')\n",
    "plt.legend(loc=\"lower right\")\n",
    "plt.show()"
   ]
  },
  {
   "cell_type": "code",
   "execution_count": null,
   "metadata": {},
   "outputs": [],
   "source": []
  },
  {
   "cell_type": "code",
   "execution_count": null,
   "metadata": {},
   "outputs": [],
   "source": []
  }
 ],
 "metadata": {
  "kernelspec": {
   "display_name": "Python 3",
   "language": "python",
   "name": "python3"
  },
  "language_info": {
   "codemirror_mode": {
    "name": "ipython",
    "version": 3
   },
   "file_extension": ".py",
   "mimetype": "text/x-python",
   "name": "python",
   "nbconvert_exporter": "python",
   "pygments_lexer": "ipython3",
   "version": "3.8.5"
  },
  "toc": {
   "base_numbering": 1,
   "nav_menu": {},
   "number_sections": true,
   "sideBar": true,
   "skip_h1_title": false,
   "title_cell": "Table of Contents",
   "title_sidebar": "Contents",
   "toc_cell": false,
   "toc_position": {
    "height": "calc(100% - 180px)",
    "left": "10px",
    "top": "150px",
    "width": "288px"
   },
   "toc_section_display": true,
   "toc_window_display": true
  }
 },
 "nbformat": 4,
 "nbformat_minor": 1
}
